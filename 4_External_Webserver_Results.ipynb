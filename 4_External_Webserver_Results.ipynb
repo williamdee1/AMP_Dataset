{
 "cells": [
  {
   "cell_type": "markdown",
   "id": "a42a8d2b",
   "metadata": {},
   "source": [
    "# Notebook Description:\n",
    "- This notebook shows the prediction results when submitting the Independent Dataset X_test data to various external prediction servers."
   ]
  },
  {
   "cell_type": "markdown",
   "id": "c0cea862",
   "metadata": {},
   "source": [
    "# Imports:"
   ]
  },
  {
   "cell_type": "code",
   "execution_count": 138,
   "id": "d62cfad1",
   "metadata": {},
   "outputs": [],
   "source": [
    "import pandas as pd\n",
    "import numpy as np\n",
    "import sklearn.metrics\n",
    "import matplotlib.pyplot as plt\n",
    "import seaborn as sns\n",
    "from sklearn.metrics import confusion_matrix, classification_report, roc_auc_score\n",
    "\n",
    "%matplotlib inline"
   ]
  },
  {
   "cell_type": "code",
   "execution_count": 76,
   "id": "23323748",
   "metadata": {},
   "outputs": [],
   "source": [
    "# Importing y_test data:\n",
    "y_test_indep = pd.read_csv('Datasets/INDEP_DATA/y_test.csv', header=None, names=['AMP'])"
   ]
  },
  {
   "cell_type": "code",
   "execution_count": 77,
   "id": "46c5b7bc",
   "metadata": {},
   "outputs": [
    {
     "data": {
      "text/html": [
       "<div>\n",
       "<style scoped>\n",
       "    .dataframe tbody tr th:only-of-type {\n",
       "        vertical-align: middle;\n",
       "    }\n",
       "\n",
       "    .dataframe tbody tr th {\n",
       "        vertical-align: top;\n",
       "    }\n",
       "\n",
       "    .dataframe thead th {\n",
       "        text-align: right;\n",
       "    }\n",
       "</style>\n",
       "<table border=\"1\" class=\"dataframe\">\n",
       "  <thead>\n",
       "    <tr style=\"text-align: right;\">\n",
       "      <th></th>\n",
       "      <th>AMP</th>\n",
       "    </tr>\n",
       "  </thead>\n",
       "  <tbody>\n",
       "    <tr>\n",
       "      <th>0</th>\n",
       "      <td>0</td>\n",
       "    </tr>\n",
       "    <tr>\n",
       "      <th>1</th>\n",
       "      <td>0</td>\n",
       "    </tr>\n",
       "    <tr>\n",
       "      <th>2</th>\n",
       "      <td>0</td>\n",
       "    </tr>\n",
       "  </tbody>\n",
       "</table>\n",
       "</div>"
      ],
      "text/plain": [
       "   AMP\n",
       "0    0\n",
       "1    0\n",
       "2    0"
      ]
     },
     "execution_count": 77,
     "metadata": {},
     "output_type": "execute_result"
    }
   ],
   "source": [
    "y_test_indep.head(3)"
   ]
  },
  {
   "cell_type": "markdown",
   "id": "6253e827",
   "metadata": {},
   "source": [
    "# Functions for Processing Predictions:"
   ]
  },
  {
   "cell_type": "code",
   "execution_count": null,
   "id": "06f2b986",
   "metadata": {},
   "outputs": [],
   "source": [
    "# Function used to import and rename columns from the external prediction text files:\n",
    "dict_pred = {'NAMP': 0, 'AMP':1}\n",
    "\n",
    "def import_and_rename(file, method):\n",
    "    df = pd.read_csv(file, sep='\\s+', header=None)\n",
    "    \n",
    "    if method == 'ANN':\n",
    "        df = df.rename(columns={0: \"id_ref\", 1: \"AMP_Pred\"})\n",
    "    else:\n",
    "        df = df.rename(columns={0: \"id_ref\", 1: \"AMP_Pred\", 2: \"Probability\"})\n",
    "    \n",
    "    # Mapping dictionary of boolean value to Prediction column:\n",
    "    df['AMP_Pred'] = df['AMP_Pred'].map(dict_pred)\n",
    "    \n",
    "    return df"
   ]
  },
  {
   "cell_type": "code",
   "execution_count": 125,
   "id": "dd4f4c38",
   "metadata": {},
   "outputs": [],
   "source": [
    "def display_conf_matrix(true_labels, pred_labels, classifier):\n",
    "    \n",
    "    fig = plt.figure(figsize=(6,4), dpi=100)\n",
    "\n",
    "    confusion_matrix1 = pd.crosstab(np.array(true_labels), \n",
    "                                   np.array(pred_labels),\n",
    "                                   rownames=['Actual'], colnames=['Predicted'])\n",
    "    confusion_matrix2 = pd.crosstab(np.array(true_labels), \n",
    "                                   np.array(pred_labels),\n",
    "                                   rownames=['Actual'], colnames=['Predicted'], normalize='index')\n",
    "\n",
    "\n",
    "    # Extracting counts and percentages from the matrices above:\n",
    "    counts = [\"{0:,}\".format(value) for value in\n",
    "                    confusion_matrix1.to_numpy().flatten()]\n",
    "\n",
    "    percentages = [\"{0:.2%}\".format(value) for value in\n",
    "                         confusion_matrix2.to_numpy().flatten()]\n",
    "\n",
    "    # Combining counts and percentages as one label:\n",
    "    labels = [f\"{v1}\\n{v2}\" for v1, v2 in zip(percentages, counts)]\n",
    "\n",
    "    # Reshaping the labels to fit the array:\n",
    "    labels = np.asarray(labels).reshape(2,2)\n",
    "\n",
    "    #Plotting the heatmap:\n",
    "    sns.heatmap(confusion_matrix2, annot=labels, fmt='', cmap='BuPu')\n",
    "    plt.title(\"Confusion Matrix - %s\\n\" % classifier, fontweight='bold')\n",
    "    #plt.savefig('Figures/MLP_Conf_Mat.png', bbox_inches='tight')\n",
    "    plt.show()"
   ]
  },
  {
   "cell_type": "code",
   "execution_count": 168,
   "id": "6d56c4a5",
   "metadata": {},
   "outputs": [],
   "source": [
    "def print_metrics(true_labels, pred_labels):\n",
    "    CM = confusion_matrix(true_labels, pred_labels, labels=[0, 1])\n",
    "\n",
    "    TP = CM[1][1]\n",
    "    FN = CM[1][0]\n",
    "    FP = CM[0][1]\n",
    "    TN = CM[0][0]\n",
    "\n",
    "    # Sensitivity, hit rate, recall, or true positive rate\n",
    "    TPR = TP/(TP+FN)\n",
    "    print(f\"Sensitivity:     {TPR*100:.2f}%\")\n",
    "    # Specificity or true negative rate\n",
    "    TNR = TN/(TN+FP) \n",
    "    print(f\"Specificity:     {TNR*100:.2f}%\")\n",
    "    # Precision or positive predictive value\n",
    "    PPV = TP/(TP+FP)\n",
    "    # Negative predictive value\n",
    "    NPV = TN/(TN+FN)\n",
    "    # Fall out or false positive rate\n",
    "    FPR = FP/(FP+TN)\n",
    "    # False negative rate\n",
    "    FNR = FN/(TP+FN)\n",
    "    # False discovery rate\n",
    "    FDR = FP/(TP+FP)\n",
    "\n",
    "    # Overall accuracy\n",
    "    ACC = (TP+TN)/(TP+FP+FN+TN)\n",
    "    print(f\"Accuracy:        {ACC*100:.2f}%\") \n",
    "\n",
    "    # f1 Score:\n",
    "    F1 = TP/(TP + (0.5*(FP+FN)))\n",
    "    print(f\"F1 Score:        {F1*100:.2f}%\") \n",
    "\n",
    "    MCC = ((TP*TN)-(FP*FN))/ (((TP+FP)*(TP+FN)*(TN+FP)*(TN+FN))**0.5)\n",
    "    print(f\"MCC:             {MCC*100:.2f}%\") \n",
    "    \n",
    "    auROC = roc_auc_score(true_labels, pred_labels, average=None)\n",
    "    print(f\"auROC:           {auROC*100:.2f}%\") \n",
    "    \n",
    "    metrics = [TPR*100, TNR*100, ACC*100, F1*100, MCC*100, auROC*100]\n",
    "    \n",
    "    return metrics"
   ]
  },
  {
   "cell_type": "markdown",
   "id": "8411d09c",
   "metadata": {},
   "source": [
    "# CAMP R3:\n",
    "CAMPR3 (Collection of Anti-Microbial Peptides) - http://www.camp.bicnirrh.res.in/index.php - provides 4 trained models to predict Antimicrobial peptides. The results after submitting our independent X_test data are shown below:"
   ]
  },
  {
   "cell_type": "markdown",
   "id": "2ab02f0a",
   "metadata": {},
   "source": [
    "## CAMP SVM Classifier:"
   ]
  },
  {
   "cell_type": "code",
   "execution_count": 66,
   "id": "5bcf867e",
   "metadata": {},
   "outputs": [],
   "source": [
    "camp_svm = import_and_rename('Predictions/INDEP/CAMP/CAMP_SVM.txt', 'SVM')"
   ]
  },
  {
   "cell_type": "code",
   "execution_count": 67,
   "id": "739ce9bb",
   "metadata": {},
   "outputs": [
    {
     "data": {
      "text/html": [
       "<div>\n",
       "<style scoped>\n",
       "    .dataframe tbody tr th:only-of-type {\n",
       "        vertical-align: middle;\n",
       "    }\n",
       "\n",
       "    .dataframe tbody tr th {\n",
       "        vertical-align: top;\n",
       "    }\n",
       "\n",
       "    .dataframe thead th {\n",
       "        text-align: right;\n",
       "    }\n",
       "</style>\n",
       "<table border=\"1\" class=\"dataframe\">\n",
       "  <thead>\n",
       "    <tr style=\"text-align: right;\">\n",
       "      <th></th>\n",
       "      <th>id_ref</th>\n",
       "      <th>AMP_Pred</th>\n",
       "      <th>Probability</th>\n",
       "    </tr>\n",
       "  </thead>\n",
       "  <tbody>\n",
       "    <tr>\n",
       "      <th>0</th>\n",
       "      <td>1</td>\n",
       "      <td>1</td>\n",
       "      <td>0.502</td>\n",
       "    </tr>\n",
       "    <tr>\n",
       "      <th>1</th>\n",
       "      <td>2</td>\n",
       "      <td>0</td>\n",
       "      <td>0.048</td>\n",
       "    </tr>\n",
       "    <tr>\n",
       "      <th>2</th>\n",
       "      <td>3</td>\n",
       "      <td>0</td>\n",
       "      <td>0.171</td>\n",
       "    </tr>\n",
       "    <tr>\n",
       "      <th>3</th>\n",
       "      <td>4</td>\n",
       "      <td>1</td>\n",
       "      <td>0.708</td>\n",
       "    </tr>\n",
       "    <tr>\n",
       "      <th>4</th>\n",
       "      <td>5</td>\n",
       "      <td>1</td>\n",
       "      <td>0.858</td>\n",
       "    </tr>\n",
       "  </tbody>\n",
       "</table>\n",
       "</div>"
      ],
      "text/plain": [
       "   id_ref  AMP_Pred  Probability\n",
       "0       1         1        0.502\n",
       "1       2         0        0.048\n",
       "2       3         0        0.171\n",
       "3       4         1        0.708\n",
       "4       5         1        0.858"
      ]
     },
     "execution_count": 67,
     "metadata": {},
     "output_type": "execute_result"
    }
   ],
   "source": [
    "camp_svm.head()"
   ]
  },
  {
   "cell_type": "code",
   "execution_count": 86,
   "id": "f64906f5",
   "metadata": {},
   "outputs": [
    {
     "data": {
      "image/png": "[encoded data removed]",
      "text/plain": [
       "<Figure size 600x400 with 2 Axes>"
      ]
     },
     "metadata": {
      "needs_background": "light"
     },
     "output_type": "display_data"
    }
   ],
   "source": [
    "display_conf_matrix(y_test_indep.AMP, camp_svm.AMP_Pred, 'CAMP Support Vector Machines')"
   ]
  },
  {
   "cell_type": "code",
   "execution_count": 170,
   "id": "6f1bdec8",
   "metadata": {},
   "outputs": [
    {
     "name": "stdout",
     "output_type": "stream",
     "text": [
      "Sensitivity:     83.03%\n",
      "Specificity:     71.88%\n",
      "Accuracy:        77.45%\n",
      "F1 Score:        78.64%\n",
      "MCC:             55.25%\n",
      "auROC:           77.45%\n"
     ]
    }
   ],
   "source": [
    "camp_svm_metrics = print_metrics(y_test_indep.AMP, camp_svm.AMP_Pred)"
   ]
  },
  {
   "cell_type": "markdown",
   "id": "26ca5a8c",
   "metadata": {},
   "source": [
    "## CAMP RF Classifier:"
   ]
  },
  {
   "cell_type": "code",
   "execution_count": 68,
   "id": "08963411",
   "metadata": {},
   "outputs": [],
   "source": [
    "camp_rf = import_and_rename('Predictions/INDEP/CAMP/CAMP_RF.txt', 'RF')"
   ]
  },
  {
   "cell_type": "code",
   "execution_count": 85,
   "id": "254f89a0",
   "metadata": {},
   "outputs": [
    {
     "data": {
      "image/png": "[encoded data removed]",
      "text/plain": [
       "<Figure size 600x400 with 2 Axes>"
      ]
     },
     "metadata": {
      "needs_background": "light"
     },
     "output_type": "display_data"
    }
   ],
   "source": [
    "display_conf_matrix(y_test_indep.AMP, camp_rf.AMP_Pred, 'CAMP Random Forest')"
   ]
  },
  {
   "cell_type": "code",
   "execution_count": 171,
   "id": "0ca706d4",
   "metadata": {},
   "outputs": [
    {
     "name": "stdout",
     "output_type": "stream",
     "text": [
      "Sensitivity:     84.70%\n",
      "Specificity:     72.74%\n",
      "Accuracy:        78.72%\n",
      "F1 Score:        79.91%\n",
      "MCC:             57.85%\n",
      "auROC:           78.72%\n"
     ]
    }
   ],
   "source": [
    "camp_rf_metrics = print_metrics(y_test_indep.AMP, camp_rf.AMP_Pred)"
   ]
  },
  {
   "cell_type": "markdown",
   "id": "7ae5dc61",
   "metadata": {},
   "source": [
    "## CAMP DA Classifier:"
   ]
  },
  {
   "cell_type": "code",
   "execution_count": 70,
   "id": "a74ad89f",
   "metadata": {},
   "outputs": [],
   "source": [
    "camp_da = import_and_rename('Predictions/INDEP/CAMP/CAMP_DA.txt', 'DA')"
   ]
  },
  {
   "cell_type": "code",
   "execution_count": 88,
   "id": "1c89dbf2",
   "metadata": {},
   "outputs": [
    {
     "data": {
      "image/png": "[encoded data removed]",
      "text/plain": [
       "<Figure size 600x400 with 2 Axes>"
      ]
     },
     "metadata": {
      "needs_background": "light"
     },
     "output_type": "display_data"
    }
   ],
   "source": [
    "display_conf_matrix(y_test_indep.AMP, camp_da.AMP_Pred, 'CAMP Discriminant Analysis')"
   ]
  },
  {
   "cell_type": "code",
   "execution_count": 172,
   "id": "3f873953",
   "metadata": {},
   "outputs": [
    {
     "name": "stdout",
     "output_type": "stream",
     "text": [
      "Sensitivity:     81.04%\n",
      "Specificity:     71.41%\n",
      "Accuracy:        76.22%\n",
      "F1 Score:        77.31%\n",
      "MCC:             52.69%\n",
      "auROC:           76.22%\n"
     ]
    }
   ],
   "source": [
    "camp_da_metrics = print_metrics(y_test_indep.AMP, camp_da.AMP_Pred)"
   ]
  },
  {
   "cell_type": "markdown",
   "id": "5e0dbd80",
   "metadata": {},
   "source": [
    "## CAMP ANN Classifier:"
   ]
  },
  {
   "cell_type": "code",
   "execution_count": 71,
   "id": "cf99ab36",
   "metadata": {},
   "outputs": [],
   "source": [
    "camp_ann = import_and_rename('Predictions/INDEP/CAMP/CAMP_ANN.txt', 'ANN')"
   ]
  },
  {
   "cell_type": "code",
   "execution_count": 91,
   "id": "c13d3fd8",
   "metadata": {},
   "outputs": [
    {
     "data": {
      "image/png": "[encoded data removed]",
      "text/plain": [
       "<Figure size 600x400 with 2 Axes>"
      ]
     },
     "metadata": {
      "needs_background": "light"
     },
     "output_type": "display_data"
    }
   ],
   "source": [
    "display_conf_matrix(y_test_indep.AMP, camp_ann.AMP_Pred, 'CAMP Artificial Neural Network')"
   ]
  },
  {
   "cell_type": "code",
   "execution_count": 173,
   "id": "9ac59254",
   "metadata": {},
   "outputs": [
    {
     "name": "stdout",
     "output_type": "stream",
     "text": [
      "Sensitivity:     77.51%\n",
      "Specificity:     72.54%\n",
      "Accuracy:        75.02%\n",
      "F1 Score:        75.62%\n",
      "MCC:             50.11%\n",
      "auROC:           75.03%\n"
     ]
    }
   ],
   "source": [
    "camp_ann_metrics = print_metrics(y_test_indep.AMP, camp_ann.AMP_Pred)"
   ]
  },
  {
   "cell_type": "markdown",
   "id": "351af75d",
   "metadata": {},
   "source": [
    "# iAMP-2L:\n",
    "- Prediction server: http://www.jci-bioinfo.cn/bioinfo/iAMP-2L\n",
    "- Paper: https://www.sciencedirect.com/science/article/pii/S0003269713000390"
   ]
  },
  {
   "cell_type": "code",
   "execution_count": 109,
   "id": "2fe772c7",
   "metadata": {},
   "outputs": [],
   "source": [
    "iamp_2L = pd.read_csv('Predictions/INDEP/iAMP_2L.txt', sep='/n', header=None, engine='python', names=['AMP_Pred'])\n",
    "# Splitting predictions from text data:\n",
    "iamp_2L = iamp_2L[\"AMP_Pred\"].str.split(\" \", expand = True)[[3, 7]].rename(columns={3: \"id_ref\", 7: \"AMP_Pred\"})\n",
    "dict_pred_iamp = {'non-AMP.': 0, 'AMP':1}\n",
    "iamp_2L['AMP_Pred'] = iamp_2L['AMP_Pred'].map(dict_pred_iamp)"
   ]
  },
  {
   "cell_type": "code",
   "execution_count": 110,
   "id": "46d93151",
   "metadata": {},
   "outputs": [
    {
     "data": {
      "text/html": [
       "<div>\n",
       "<style scoped>\n",
       "    .dataframe tbody tr th:only-of-type {\n",
       "        vertical-align: middle;\n",
       "    }\n",
       "\n",
       "    .dataframe tbody tr th {\n",
       "        vertical-align: top;\n",
       "    }\n",
       "\n",
       "    .dataframe thead th {\n",
       "        text-align: right;\n",
       "    }\n",
       "</style>\n",
       "<table border=\"1\" class=\"dataframe\">\n",
       "  <thead>\n",
       "    <tr style=\"text-align: right;\">\n",
       "      <th></th>\n",
       "      <th>id_ref</th>\n",
       "      <th>AMP_Pred</th>\n",
       "    </tr>\n",
       "  </thead>\n",
       "  <tbody>\n",
       "    <tr>\n",
       "      <th>0</th>\n",
       "      <td>(P80168)</td>\n",
       "      <td>0</td>\n",
       "    </tr>\n",
       "    <tr>\n",
       "      <th>1</th>\n",
       "      <td>(P17228)</td>\n",
       "      <td>0</td>\n",
       "    </tr>\n",
       "    <tr>\n",
       "      <th>2</th>\n",
       "      <td>(P0C2A3)</td>\n",
       "      <td>1</td>\n",
       "    </tr>\n",
       "    <tr>\n",
       "      <th>3</th>\n",
       "      <td>(P34451)</td>\n",
       "      <td>0</td>\n",
       "    </tr>\n",
       "    <tr>\n",
       "      <th>4</th>\n",
       "      <td>(DRAMP00493)</td>\n",
       "      <td>0</td>\n",
       "    </tr>\n",
       "  </tbody>\n",
       "</table>\n",
       "</div>"
      ],
      "text/plain": [
       "         id_ref  AMP_Pred\n",
       "0      (P80168)         0\n",
       "1      (P17228)         0\n",
       "2      (P0C2A3)         1\n",
       "3      (P34451)         0\n",
       "4  (DRAMP00493)         0"
      ]
     },
     "execution_count": 110,
     "metadata": {},
     "output_type": "execute_result"
    }
   ],
   "source": [
    "iamp_2L.head()"
   ]
  },
  {
   "cell_type": "code",
   "execution_count": 112,
   "id": "d87f09d0",
   "metadata": {},
   "outputs": [
    {
     "data": {
      "image/png": "[encoded data removed]",
      "text/plain": [
       "<Figure size 600x400 with 2 Axes>"
      ]
     },
     "metadata": {
      "needs_background": "light"
     },
     "output_type": "display_data"
    }
   ],
   "source": [
    "display_conf_matrix(y_test_indep.AMP, iamp_2L.AMP_Pred, 'iAMP-2L Fuzzy K-Nearest Neighbour')"
   ]
  },
  {
   "cell_type": "code",
   "execution_count": 174,
   "id": "a3f2d2a3",
   "metadata": {},
   "outputs": [
    {
     "name": "stdout",
     "output_type": "stream",
     "text": [
      "Sensitivity:     76.18%\n",
      "Specificity:     74.60%\n",
      "Accuracy:        75.39%\n",
      "F1 Score:        75.58%\n",
      "MCC:             50.79%\n",
      "auROC:           75.39%\n"
     ]
    }
   ],
   "source": [
    "iamp_2L_metrics = print_metrics(y_test_indep.AMP, iamp_2L.AMP_Pred)"
   ]
  },
  {
   "cell_type": "markdown",
   "id": "b32eee8d",
   "metadata": {},
   "source": [
    "# iAMPpred:\n",
    "- Prediction server: http://cabgrid.res.in:8080/amppred/\n",
    "- Paper: https://www.nature.com/articles/srep42362"
   ]
  },
  {
   "cell_type": "code",
   "execution_count": 119,
   "id": "cc1ae145",
   "metadata": {},
   "outputs": [],
   "source": [
    "iampPred = pd.read_csv('Predictions/INDEP/iampPred.csv')"
   ]
  },
  {
   "cell_type": "code",
   "execution_count": 120,
   "id": "258aa4ef",
   "metadata": {},
   "outputs": [
    {
     "data": {
      "text/html": [
       "<div>\n",
       "<style scoped>\n",
       "    .dataframe tbody tr th:only-of-type {\n",
       "        vertical-align: middle;\n",
       "    }\n",
       "\n",
       "    .dataframe tbody tr th {\n",
       "        vertical-align: top;\n",
       "    }\n",
       "\n",
       "    .dataframe thead th {\n",
       "        text-align: right;\n",
       "    }\n",
       "</style>\n",
       "<table border=\"1\" class=\"dataframe\">\n",
       "  <thead>\n",
       "    <tr style=\"text-align: right;\">\n",
       "      <th></th>\n",
       "      <th>name_fasta</th>\n",
       "      <th>antibacterial</th>\n",
       "      <th>antiviral</th>\n",
       "      <th>antifungal</th>\n",
       "      <th>AMP</th>\n",
       "    </tr>\n",
       "  </thead>\n",
       "  <tbody>\n",
       "    <tr>\n",
       "      <th>0</th>\n",
       "      <td>P80168</td>\n",
       "      <td>0.646</td>\n",
       "      <td>0.379</td>\n",
       "      <td>0.243</td>\n",
       "      <td>1</td>\n",
       "    </tr>\n",
       "    <tr>\n",
       "      <th>1</th>\n",
       "      <td>P17228</td>\n",
       "      <td>0.232</td>\n",
       "      <td>0.460</td>\n",
       "      <td>0.315</td>\n",
       "      <td>0</td>\n",
       "    </tr>\n",
       "    <tr>\n",
       "      <th>2</th>\n",
       "      <td>P0C2A3</td>\n",
       "      <td>0.097</td>\n",
       "      <td>0.080</td>\n",
       "      <td>0.109</td>\n",
       "      <td>0</td>\n",
       "    </tr>\n",
       "    <tr>\n",
       "      <th>3</th>\n",
       "      <td>P34451</td>\n",
       "      <td>0.358</td>\n",
       "      <td>0.286</td>\n",
       "      <td>0.564</td>\n",
       "      <td>1</td>\n",
       "    </tr>\n",
       "    <tr>\n",
       "      <th>4</th>\n",
       "      <td>DRAMP00493</td>\n",
       "      <td>0.939</td>\n",
       "      <td>0.695</td>\n",
       "      <td>0.967</td>\n",
       "      <td>1</td>\n",
       "    </tr>\n",
       "  </tbody>\n",
       "</table>\n",
       "</div>"
      ],
      "text/plain": [
       "   name_fasta  antibacterial  antiviral  antifungal  AMP\n",
       "0      P80168          0.646      0.379       0.243    1\n",
       "1      P17228          0.232      0.460       0.315    0\n",
       "2      P0C2A3          0.097      0.080       0.109    0\n",
       "3      P34451          0.358      0.286       0.564    1\n",
       "4  DRAMP00493          0.939      0.695       0.967    1"
      ]
     },
     "execution_count": 120,
     "metadata": {},
     "output_type": "execute_result"
    }
   ],
   "source": [
    "iampPred.head()"
   ]
  },
  {
   "cell_type": "code",
   "execution_count": 126,
   "id": "b34206ef",
   "metadata": {},
   "outputs": [
    {
     "data": {
      "image/png": "[encoded data removed]",
      "text/plain": [
       "<Figure size 600x400 with 2 Axes>"
      ]
     },
     "metadata": {
      "needs_background": "light"
     },
     "output_type": "display_data"
    }
   ],
   "source": [
    "display_conf_matrix(y_test_indep.AMP, iampPred.AMP, 'iAMP Pred Support Vector Machines')"
   ]
  },
  {
   "cell_type": "code",
   "execution_count": 175,
   "id": "253f7488",
   "metadata": {},
   "outputs": [
    {
     "name": "stdout",
     "output_type": "stream",
     "text": [
      "Sensitivity:     89.55%\n",
      "Specificity:     55.92%\n",
      "Accuracy:        72.73%\n",
      "F1 Score:        76.65%\n",
      "MCC:             48.28%\n",
      "auROC:           72.74%\n"
     ]
    }
   ],
   "source": [
    "iampPred_metrics = print_metrics(y_test_indep.AMP, iampPred.AMP)"
   ]
  },
  {
   "cell_type": "markdown",
   "id": "bec22c5a",
   "metadata": {},
   "source": [
    "# Veltri Predictions:\n",
    "- Prediction server: https://academic.oup.com/bioinformatics/article/34/16/2740/4953367\n",
    "- Paper: https://academic.oup.com/bioinformatics/article/34/16/2740/4953367"
   ]
  },
  {
   "cell_type": "code",
   "execution_count": 130,
   "id": "d334e925",
   "metadata": {},
   "outputs": [],
   "source": [
    "veltriPred = pd.read_csv('Predictions/INDEP/veltri.csv')\n",
    "dict_pred_velt = {'Non-AMP': 0, 'AMP':1}\n",
    "veltriPred['Prediction_Class'] = veltriPred['Prediction_Class'].map(dict_pred_velt)"
   ]
  },
  {
   "cell_type": "code",
   "execution_count": 131,
   "id": "f3e5f139",
   "metadata": {},
   "outputs": [
    {
     "data": {
      "text/html": [
       "<div>\n",
       "<style scoped>\n",
       "    .dataframe tbody tr th:only-of-type {\n",
       "        vertical-align: middle;\n",
       "    }\n",
       "\n",
       "    .dataframe tbody tr th {\n",
       "        vertical-align: top;\n",
       "    }\n",
       "\n",
       "    .dataframe thead th {\n",
       "        text-align: right;\n",
       "    }\n",
       "</style>\n",
       "<table border=\"1\" class=\"dataframe\">\n",
       "  <thead>\n",
       "    <tr style=\"text-align: right;\">\n",
       "      <th></th>\n",
       "      <th>SeqID</th>\n",
       "      <th>Prediction_Class</th>\n",
       "      <th>Prediction_Probability</th>\n",
       "      <th>Sequence</th>\n",
       "    </tr>\n",
       "  </thead>\n",
       "  <tbody>\n",
       "    <tr>\n",
       "      <th>0</th>\n",
       "      <td>P80168</td>\n",
       "      <td>1</td>\n",
       "      <td>0.9045</td>\n",
       "      <td>MAYVINDSCISCGACEPECPVNAITAGDDKYVIDAATCIDCGACAG...</td>\n",
       "    </tr>\n",
       "    <tr>\n",
       "      <th>1</th>\n",
       "      <td>P17228</td>\n",
       "      <td>0</td>\n",
       "      <td>0.1264</td>\n",
       "      <td>MNFPSIFVPLVGLVFPAIAMASLFLYVQKNKIV</td>\n",
       "    </tr>\n",
       "    <tr>\n",
       "      <th>2</th>\n",
       "      <td>P0C2A3</td>\n",
       "      <td>0</td>\n",
       "      <td>0.0051</td>\n",
       "      <td>ADVPGNYPLNSYGASYYCTI</td>\n",
       "    </tr>\n",
       "    <tr>\n",
       "      <th>3</th>\n",
       "      <td>P34451</td>\n",
       "      <td>0</td>\n",
       "      <td>0.1318</td>\n",
       "      <td>MKHKRMMLPHYVRVYVCVRTDGENEKAGQSEEYDDDDKEENKKRRR...</td>\n",
       "    </tr>\n",
       "    <tr>\n",
       "      <th>4</th>\n",
       "      <td>DRAMP00493</td>\n",
       "      <td>1</td>\n",
       "      <td>1.0000</td>\n",
       "      <td>TTAGRRDGKSGRTEWLYVAGECAKLPRCNKYCVSNGFHLGGFCEKL...</td>\n",
       "    </tr>\n",
       "  </tbody>\n",
       "</table>\n",
       "</div>"
      ],
      "text/plain": [
       "        SeqID  Prediction_Class  Prediction_Probability  \\\n",
       "0      P80168                 1                  0.9045   \n",
       "1      P17228                 0                  0.1264   \n",
       "2      P0C2A3                 0                  0.0051   \n",
       "3      P34451                 0                  0.1318   \n",
       "4  DRAMP00493                 1                  1.0000   \n",
       "\n",
       "                                            Sequence  \n",
       "0  MAYVINDSCISCGACEPECPVNAITAGDDKYVIDAATCIDCGACAG...  \n",
       "1                  MNFPSIFVPLVGLVFPAIAMASLFLYVQKNKIV  \n",
       "2                               ADVPGNYPLNSYGASYYCTI  \n",
       "3  MKHKRMMLPHYVRVYVCVRTDGENEKAGQSEEYDDDDKEENKKRRR...  \n",
       "4  TTAGRRDGKSGRTEWLYVAGECAKLPRCNKYCVSNGFHLGGFCEKL...  "
      ]
     },
     "execution_count": 131,
     "metadata": {},
     "output_type": "execute_result"
    }
   ],
   "source": [
    "veltriPred.head()"
   ]
  },
  {
   "cell_type": "code",
   "execution_count": 132,
   "id": "dac4f74f",
   "metadata": {},
   "outputs": [
    {
     "data": {
      "image/png": "[encoded data removed]",
      "text/plain": [
       "<Figure size 600x400 with 2 Axes>"
      ]
     },
     "metadata": {
      "needs_background": "light"
     },
     "output_type": "display_data"
    }
   ],
   "source": [
    "display_conf_matrix(y_test_indep.AMP, veltriPred.Prediction_Class, 'iAMP Deep Neural Network')"
   ]
  },
  {
   "cell_type": "code",
   "execution_count": 183,
   "id": "29c68c35",
   "metadata": {},
   "outputs": [
    {
     "name": "stdout",
     "output_type": "stream",
     "text": [
      "Sensitivity:     90.09%\n",
      "Specificity:     66.95%\n",
      "Accuracy:        78.52%\n",
      "F1 Score:        80.74%\n",
      "MCC:             58.63%\n",
      "auROC:           78.52%\n"
     ]
    }
   ],
   "source": [
    "veltri_metrics = print_metrics(y_test_indep.AMP, veltriPred.Prediction_Class)"
   ]
  },
  {
   "cell_type": "markdown",
   "id": "703d47ba",
   "metadata": {},
   "source": [
    "# AmPep Predictions:\n",
    "- Prediction Server: https://app.cbbio.online/ampep/home\n",
    "- Paper: https://www.nature.com/articles/s41598-018-19752-w"
   ]
  },
  {
   "cell_type": "code",
   "execution_count": 134,
   "id": "3b7cfd24",
   "metadata": {},
   "outputs": [],
   "source": [
    "amPEP = pd.read_csv('Predictions/INDEP/ampep.csv')"
   ]
  },
  {
   "cell_type": "code",
   "execution_count": 135,
   "id": "e3dffb79",
   "metadata": {},
   "outputs": [
    {
     "data": {
      "text/html": [
       "<div>\n",
       "<style scoped>\n",
       "    .dataframe tbody tr th:only-of-type {\n",
       "        vertical-align: middle;\n",
       "    }\n",
       "\n",
       "    .dataframe tbody tr th {\n",
       "        vertical-align: top;\n",
       "    }\n",
       "\n",
       "    .dataframe thead th {\n",
       "        text-align: right;\n",
       "    }\n",
       "</style>\n",
       "<table border=\"1\" class=\"dataframe\">\n",
       "  <thead>\n",
       "    <tr style=\"text-align: right;\">\n",
       "      <th></th>\n",
       "      <th>id</th>\n",
       "      <th>ampep</th>\n",
       "      <th>number_of_positives</th>\n",
       "      <th>sequence</th>\n",
       "    </tr>\n",
       "  </thead>\n",
       "  <tbody>\n",
       "    <tr>\n",
       "      <th>0</th>\n",
       "      <td>P80168</td>\n",
       "      <td>1</td>\n",
       "      <td>1</td>\n",
       "      <td>MAYVINDSCISCGACEPECPVNAITAGDDKYVIDAATCIDCGACAG...</td>\n",
       "    </tr>\n",
       "    <tr>\n",
       "      <th>1</th>\n",
       "      <td>P17228</td>\n",
       "      <td>0</td>\n",
       "      <td>0</td>\n",
       "      <td>MNFPSIFVPLVGLVFPAIAMASLFLYVQKNKIV</td>\n",
       "    </tr>\n",
       "    <tr>\n",
       "      <th>2</th>\n",
       "      <td>P0C2A3</td>\n",
       "      <td>0</td>\n",
       "      <td>0</td>\n",
       "      <td>ADVPGNYPLNSYGASYYCTI</td>\n",
       "    </tr>\n",
       "    <tr>\n",
       "      <th>3</th>\n",
       "      <td>P34451</td>\n",
       "      <td>1</td>\n",
       "      <td>1</td>\n",
       "      <td>MKHKRMMLPHYVRVYVCVRTDGENEKAGQSEEYDDDDKEENKKRRR...</td>\n",
       "    </tr>\n",
       "    <tr>\n",
       "      <th>4</th>\n",
       "      <td>DRAMP00493</td>\n",
       "      <td>1</td>\n",
       "      <td>1</td>\n",
       "      <td>TTAGRRDGKSGRTEWLYVAGECAKLPRCNKYCVSNGFHLGGFCEKL...</td>\n",
       "    </tr>\n",
       "  </tbody>\n",
       "</table>\n",
       "</div>"
      ],
      "text/plain": [
       "           id  ampep  number_of_positives  \\\n",
       "0      P80168      1                    1   \n",
       "1      P17228      0                    0   \n",
       "2      P0C2A3      0                    0   \n",
       "3      P34451      1                    1   \n",
       "4  DRAMP00493      1                    1   \n",
       "\n",
       "                                            sequence  \n",
       "0  MAYVINDSCISCGACEPECPVNAITAGDDKYVIDAATCIDCGACAG...  \n",
       "1                  MNFPSIFVPLVGLVFPAIAMASLFLYVQKNKIV  \n",
       "2                               ADVPGNYPLNSYGASYYCTI  \n",
       "3  MKHKRMMLPHYVRVYVCVRTDGENEKAGQSEEYDDDDKEENKKRRR...  \n",
       "4  TTAGRRDGKSGRTEWLYVAGECAKLPRCNKYCVSNGFHLGGFCEKL...  "
      ]
     },
     "execution_count": 135,
     "metadata": {},
     "output_type": "execute_result"
    }
   ],
   "source": [
    "amPEP.head()"
   ]
  },
  {
   "cell_type": "code",
   "execution_count": 136,
   "id": "fab66484",
   "metadata": {},
   "outputs": [
    {
     "data": {
      "image/png": "[encoded data removed]",
      "text/plain": [
       "<Figure size 600x400 with 2 Axes>"
      ]
     },
     "metadata": {
      "needs_background": "light"
     },
     "output_type": "display_data"
    }
   ],
   "source": [
    "display_conf_matrix(y_test_indep.AMP, amPEP.ampep, 'AmPep Random Forest')"
   ]
  },
  {
   "cell_type": "code",
   "execution_count": 184,
   "id": "5387bf03",
   "metadata": {},
   "outputs": [
    {
     "name": "stdout",
     "output_type": "stream",
     "text": [
      "Sensitivity:     56.62%\n",
      "Specificity:     43.48%\n",
      "Accuracy:        50.05%\n",
      "F1 Score:        53.12%\n",
      "MCC:             0.11%\n",
      "auROC:           50.05%\n"
     ]
    }
   ],
   "source": [
    "amPep_metrics = print_metrics(y_test_indep.AMP, amPEP.ampep)"
   ]
  },
  {
   "cell_type": "markdown",
   "id": "6a7b8e4f",
   "metadata": {},
   "source": [
    "# Create Dataframe of Metrics:"
   ]
  },
  {
   "cell_type": "code",
   "execution_count": 189,
   "id": "154ac906",
   "metadata": {},
   "outputs": [
    {
     "data": {
      "text/html": [
       "<div>\n",
       "<style scoped>\n",
       "    .dataframe tbody tr th:only-of-type {\n",
       "        vertical-align: middle;\n",
       "    }\n",
       "\n",
       "    .dataframe tbody tr th {\n",
       "        vertical-align: top;\n",
       "    }\n",
       "\n",
       "    .dataframe thead th {\n",
       "        text-align: right;\n",
       "    }\n",
       "</style>\n",
       "<table border=\"1\" class=\"dataframe\">\n",
       "  <thead>\n",
       "    <tr style=\"text-align: right;\">\n",
       "      <th></th>\n",
       "      <th>Sensitivity (%)</th>\n",
       "      <th>Specificity (%)</th>\n",
       "      <th>Accuracy (%)</th>\n",
       "      <th>F1 Score (%)</th>\n",
       "      <th>MCC (%)</th>\n",
       "      <th>auROC (%)</th>\n",
       "    </tr>\n",
       "  </thead>\n",
       "  <tbody>\n",
       "    <tr>\n",
       "      <th>amPEP</th>\n",
       "      <td>56.620093</td>\n",
       "      <td>43.484043</td>\n",
       "      <td>50.049884</td>\n",
       "      <td>53.121099</td>\n",
       "      <td>0.105046</td>\n",
       "      <td>50.052068</td>\n",
       "    </tr>\n",
       "    <tr>\n",
       "      <th>CAMP-ANN</th>\n",
       "      <td>77.511643</td>\n",
       "      <td>72.539894</td>\n",
       "      <td>75.024942</td>\n",
       "      <td>75.624797</td>\n",
       "      <td>50.113094</td>\n",
       "      <td>75.025768</td>\n",
       "    </tr>\n",
       "    <tr>\n",
       "      <th>CAMP-DA</th>\n",
       "      <td>81.037924</td>\n",
       "      <td>71.409574</td>\n",
       "      <td>76.222148</td>\n",
       "      <td>77.308791</td>\n",
       "      <td>52.691414</td>\n",
       "      <td>76.223749</td>\n",
       "    </tr>\n",
       "    <tr>\n",
       "      <th>CAMP-RF</th>\n",
       "      <td>84.697272</td>\n",
       "      <td>72.739362</td>\n",
       "      <td>78.716329</td>\n",
       "      <td>79.912116</td>\n",
       "      <td>57.850396</td>\n",
       "      <td>78.718317</td>\n",
       "    </tr>\n",
       "    <tr>\n",
       "      <th>CAMP-SVM</th>\n",
       "      <td>83.033932</td>\n",
       "      <td>71.875000</td>\n",
       "      <td>77.452611</td>\n",
       "      <td>78.638941</td>\n",
       "      <td>55.252884</td>\n",
       "      <td>77.454466</td>\n",
       "    </tr>\n",
       "    <tr>\n",
       "      <th>iAMP-2L</th>\n",
       "      <td>76.180971</td>\n",
       "      <td>74.601064</td>\n",
       "      <td>75.390755</td>\n",
       "      <td>75.577558</td>\n",
       "      <td>50.788237</td>\n",
       "      <td>75.391018</td>\n",
       "    </tr>\n",
       "    <tr>\n",
       "      <th>iAMPpred</th>\n",
       "      <td>89.554225</td>\n",
       "      <td>55.917553</td>\n",
       "      <td>72.730296</td>\n",
       "      <td>76.651481</td>\n",
       "      <td>48.282540</td>\n",
       "      <td>72.735889</td>\n",
       "    </tr>\n",
       "    <tr>\n",
       "      <th>Veltri-DNN</th>\n",
       "      <td>90.086494</td>\n",
       "      <td>66.954787</td>\n",
       "      <td>78.516794</td>\n",
       "      <td>80.739416</td>\n",
       "      <td>58.628739</td>\n",
       "      <td>78.520640</td>\n",
       "    </tr>\n",
       "  </tbody>\n",
       "</table>\n",
       "</div>"
      ],
      "text/plain": [
       "            Sensitivity (%)  Specificity (%)  Accuracy (%)  F1 Score (%)  \\\n",
       "amPEP             56.620093        43.484043     50.049884     53.121099   \n",
       "CAMP-ANN          77.511643        72.539894     75.024942     75.624797   \n",
       "CAMP-DA           81.037924        71.409574     76.222148     77.308791   \n",
       "CAMP-RF           84.697272        72.739362     78.716329     79.912116   \n",
       "CAMP-SVM          83.033932        71.875000     77.452611     78.638941   \n",
       "iAMP-2L           76.180971        74.601064     75.390755     75.577558   \n",
       "iAMPpred          89.554225        55.917553     72.730296     76.651481   \n",
       "Veltri-DNN        90.086494        66.954787     78.516794     80.739416   \n",
       "\n",
       "              MCC (%)  auROC (%)  \n",
       "amPEP        0.105046  50.052068  \n",
       "CAMP-ANN    50.113094  75.025768  \n",
       "CAMP-DA     52.691414  76.223749  \n",
       "CAMP-RF     57.850396  78.718317  \n",
       "CAMP-SVM    55.252884  77.454466  \n",
       "iAMP-2L     50.788237  75.391018  \n",
       "iAMPpred    48.282540  72.735889  \n",
       "Veltri-DNN  58.628739  78.520640  "
      ]
     },
     "execution_count": 189,
     "metadata": {},
     "output_type": "execute_result"
    }
   ],
   "source": [
    "metrics_df = pd.DataFrame({'amPEP':amPep_metrics, 'CAMP-ANN':camp_ann_metrics, 'CAMP-DA':camp_da_metrics, \n",
    "                           'CAMP-RF':camp_rf_metrics, 'CAMP-SVM':camp_svm_metrics, 'iAMP-2L':iamp_2L_metrics, \n",
    "                           'iAMPpred':iampPred_metrics, 'Veltri-DNN':veltri_metrics}).T.rename(\n",
    "                        columns={0: \"Sensitivity (%)\", 1: \"Specificity (%)\", 2: \"Accuracy (%)\", \n",
    "                                 3: \"F1 Score (%)\", 4: \"MCC (%)\", 5: \"auROC (%)\"})\n",
    "metrics_df"
   ]
  },
  {
   "cell_type": "code",
   "execution_count": 190,
   "id": "ccca27ab",
   "metadata": {},
   "outputs": [],
   "source": [
    "metrics_df.to_csv('Results/External_Pred_Metrics.csv')"
   ]
  },
  {
   "cell_type": "code",
   "execution_count": null,
   "id": "f736ee58",
   "metadata": {},
   "outputs": [],
   "source": []
  }
 ],
 "metadata": {
  "kernelspec": {
   "display_name": "Python 3",
   "language": "python",
   "name": "python3"
  },
  "language_info": {
   "codemirror_mode": {
    "name": "ipython",
    "version": 3
   },
   "file_extension": ".py",
   "mimetype": "text/x-python",
   "name": "python",
   "nbconvert_exporter": "python",
   "pygments_lexer": "ipython3",
   "version": "3.8.8"
  },
  "toc": {
   "base_numbering": 1,
   "nav_menu": {},
   "number_sections": true,
   "sideBar": true,
   "skip_h1_title": false,
   "title_cell": "Table of Contents",
   "title_sidebar": "Contents",
   "toc_cell": false,
   "toc_position": {},
   "toc_section_display": true,
   "toc_window_display": true
  }
 },
 "nbformat": 4,
 "nbformat_minor": 5
}
